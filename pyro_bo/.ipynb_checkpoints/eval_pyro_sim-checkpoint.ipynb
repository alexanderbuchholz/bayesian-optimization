{
 "cells": [
  {
   "cell_type": "code",
   "execution_count": 1,
   "metadata": {
    "collapsed": true
   },
   "outputs": [],
   "source": [
    "import numpy as np\n",
    "import matplotlib.pyplot as plt\n",
    "%matplotlib inline\n",
    "import pickle\n",
    "import seaborn as sns\n",
    "import pandas as pd"
   ]
  },
  {
   "cell_type": "code",
   "execution_count": 2,
   "metadata": {
    "collapsed": false
   },
   "outputs": [],
   "source": [
    "with open('pyro_bo_mrep_40_f_branin.pkl', 'rb') as f:\n",
    "    res_dict = pickle.load(f)\n"
   ]
  },
  {
   "cell_type": "code",
   "execution_count": null,
   "metadata": {
    "collapsed": true
   },
   "outputs": [],
   "source": [
    "with open('pyro_bo_mrep_40_v2.pkl', 'rb') as f:\n",
    "    res_dict = pickle.load(f)"
   ]
  },
  {
   "cell_type": "code",
   "execution_count": 7,
   "metadata": {
    "collapsed": false
   },
   "outputs": [
    {
     "name": "stdout",
     "output_type": "stream",
     "text": [
      "[u'10', u'5', u'50', u'20']\n"
     ]
    }
   ],
   "source": [
    "len(res_dict['MC']['5'])\n",
    "print res_dict['MC'].keys()\n",
    "n_samples = '5'"
   ]
  },
  {
   "cell_type": "code",
   "execution_count": 8,
   "metadata": {
    "collapsed": false
   },
   "outputs": [],
   "source": [
    "mc_y = np.array([res['y_min'] for res in res_dict['MC'][n_samples]])\n",
    "rqmc_y = np.array([res['y_min'] for res in res_dict['RQMC'][n_samples]])"
   ]
  },
  {
   "cell_type": "code",
   "execution_count": 22,
   "metadata": {
    "collapsed": false
   },
   "outputs": [],
   "source": [
    "mc_x = np.array([res['X_exp'] for res in res_dict['MC'][n_samples]])\n",
    "rqmc_x = np.array([res['X_min'] for res in res_dict['RQMC'][n_samples]])\n",
    "\n",
    "mc_x_reshape = mc_x[:,:,:].reshape(-1,2)\n",
    "rqmc_x_reshape = rqmc_x[:,:,:].reshape(-1,2)"
   ]
  },
  {
   "cell_type": "code",
   "execution_count": 23,
   "metadata": {
    "collapsed": false
   },
   "outputs": [
    {
     "data": {
      "text/plain": [
       "(33, 37, 2)"
      ]
     },
     "execution_count": 23,
     "metadata": {},
     "output_type": "execute_result"
    }
   ],
   "source": [
    "mc_x.shape"
   ]
  },
  {
   "cell_type": "code",
   "execution_count": 4,
   "metadata": {
    "collapsed": false
   },
   "outputs": [
    {
     "name": "stdout",
     "output_type": "stream",
     "text": [
      "(0,)\n"
     ]
    },
    {
     "ename": "IndexError",
     "evalue": "too many indices for array",
     "output_type": "error",
     "traceback": [
      "\u001b[0;31m---------------------------------------------------------------------------\u001b[0m",
      "\u001b[0;31mIndexError\u001b[0m                                Traceback (most recent call last)",
      "\u001b[0;32m<ipython-input-4-a2245c2c713b>\u001b[0m in \u001b[0;36m<module>\u001b[0;34m()\u001b[0m\n\u001b[1;32m     19\u001b[0m     \u001b[0mplt\u001b[0m\u001b[0;34m.\u001b[0m\u001b[0mtight_layout\u001b[0m\u001b[0;34m(\u001b[0m\u001b[0;34m)\u001b[0m\u001b[0;34m\u001b[0m\u001b[0m\n\u001b[1;32m     20\u001b[0m \u001b[0;34m\u001b[0m\u001b[0m\n\u001b[0;32m---> 21\u001b[0;31m \u001b[0mplot_scatter\u001b[0m\u001b[0;34m(\u001b[0m\u001b[0mres_dict\u001b[0m\u001b[0;34m)\u001b[0m\u001b[0;34m\u001b[0m\u001b[0m\n\u001b[0m",
      "\u001b[0;32m<ipython-input-4-a2245c2c713b>\u001b[0m in \u001b[0;36mplot_scatter\u001b[0;34m(res_dict, type_sam)\u001b[0m\n\u001b[1;32m     11\u001b[0m         \u001b[0;31m#rqmc_x_reshape = rqmc_x[:,:].reshape(-1,2)\u001b[0m\u001b[0;34m\u001b[0m\u001b[0;34m\u001b[0m\u001b[0m\n\u001b[1;32m     12\u001b[0m         \u001b[0mplt\u001b[0m\u001b[0;34m.\u001b[0m\u001b[0msubplot\u001b[0m\u001b[0;34m(\u001b[0m\u001b[0;36m2\u001b[0m\u001b[0;34m,\u001b[0m\u001b[0;36m3\u001b[0m\u001b[0;34m,\u001b[0m\u001b[0mi\u001b[0m\u001b[0;34m)\u001b[0m\u001b[0;34m\u001b[0m\u001b[0m\n\u001b[0;32m---> 13\u001b[0;31m         \u001b[0msns\u001b[0m\u001b[0;34m.\u001b[0m\u001b[0mscatterplot\u001b[0m\u001b[0;34m(\u001b[0m\u001b[0mmc_x\u001b[0m\u001b[0;34m[\u001b[0m\u001b[0;34m:\u001b[0m\u001b[0;34m,\u001b[0m\u001b[0;34m:\u001b[0m\u001b[0;34m,\u001b[0m\u001b[0;36m0\u001b[0m\u001b[0;34m]\u001b[0m\u001b[0;34m.\u001b[0m\u001b[0mflatten\u001b[0m\u001b[0;34m(\u001b[0m\u001b[0;34m)\u001b[0m\u001b[0;34m,\u001b[0m \u001b[0mmc_x\u001b[0m\u001b[0;34m[\u001b[0m\u001b[0;34m:\u001b[0m\u001b[0;34m,\u001b[0m\u001b[0;34m:\u001b[0m\u001b[0;34m,\u001b[0m\u001b[0;36m1\u001b[0m\u001b[0;34m]\u001b[0m\u001b[0;34m.\u001b[0m\u001b[0mflatten\u001b[0m\u001b[0;34m(\u001b[0m\u001b[0;34m)\u001b[0m\u001b[0;34m,\u001b[0m \u001b[0mcolor\u001b[0m\u001b[0;34m=\u001b[0m\u001b[0;34m'red'\u001b[0m\u001b[0;34m,\u001b[0m \u001b[0malpha\u001b[0m\u001b[0;34m=\u001b[0m\u001b[0;36m0.5\u001b[0m\u001b[0;34m)\u001b[0m\u001b[0;34m\u001b[0m\u001b[0m\n\u001b[0m\u001b[1;32m     14\u001b[0m         \u001b[0msns\u001b[0m\u001b[0;34m.\u001b[0m\u001b[0mscatterplot\u001b[0m\u001b[0;34m(\u001b[0m\u001b[0mrqmc_x\u001b[0m\u001b[0;34m[\u001b[0m\u001b[0;34m:\u001b[0m\u001b[0;34m,\u001b[0m\u001b[0;34m:\u001b[0m\u001b[0;34m,\u001b[0m\u001b[0;36m0\u001b[0m\u001b[0;34m]\u001b[0m\u001b[0;34m.\u001b[0m\u001b[0mflatten\u001b[0m\u001b[0;34m(\u001b[0m\u001b[0;34m)\u001b[0m\u001b[0;34m,\u001b[0m \u001b[0mrqmc_x\u001b[0m\u001b[0;34m[\u001b[0m\u001b[0;34m:\u001b[0m\u001b[0;34m,\u001b[0m\u001b[0;34m:\u001b[0m\u001b[0;34m,\u001b[0m\u001b[0;36m1\u001b[0m\u001b[0;34m]\u001b[0m\u001b[0;34m.\u001b[0m\u001b[0mflatten\u001b[0m\u001b[0;34m(\u001b[0m\u001b[0;34m)\u001b[0m\u001b[0;34m,\u001b[0m \u001b[0mcolor\u001b[0m\u001b[0;34m=\u001b[0m\u001b[0;34m'blue'\u001b[0m\u001b[0;34m,\u001b[0m \u001b[0malpha\u001b[0m\u001b[0;34m=\u001b[0m\u001b[0;36m0.5\u001b[0m\u001b[0;34m)\u001b[0m\u001b[0;34m\u001b[0m\u001b[0m\n\u001b[1;32m     15\u001b[0m         \u001b[0;31m#sns.scatterplot([0.5], [0.5], color='green', alpha=1)\u001b[0m\u001b[0;34m\u001b[0m\u001b[0;34m\u001b[0m\u001b[0m\n",
      "\u001b[0;31mIndexError\u001b[0m: too many indices for array"
     ]
    },
    {
     "data": {
      "image/png": "[encoded data removed]",
      "text/plain": [
       "<Figure size 432x288 with 1 Axes>"
      ]
     },
     "metadata": {},
     "output_type": "display_data"
    }
   ],
   "source": [
    "def plot_scatter(res_dict, type_sam='_min'):\n",
    "    plt.figure()\n",
    "    i = 1\n",
    "    for n_samples in res_dict['MC']:\n",
    "        mc_y = np.array([res['y'+type_sam] for res in res_dict['MC'][n_samples]])\n",
    "        rqmc_y = np.array([res['y'+type_sam] for res in res_dict['RQMC'][n_samples]])\n",
    "        mc_x = np.array([res['X'+type_sam] for res in res_dict['MC'][n_samples]])\n",
    "        rqmc_x = np.array([res['X'+type_sam] for res in res_dict['RQMC'][n_samples]])\n",
    "        mc_x_reshape = mc_x[:,:,:].reshape(-1,2)\n",
    "        rqmc_x_reshape = rqmc_x[:,:,:].reshape(-1,2)\n",
    "        plt.subplot(2,3,i)\n",
    "        sns.scatterplot(mc_x_reshape[:,0], mc_x_reshape[:,1], color='red', alpha=0.5)\n",
    "        sns.scatterplot(rqmc_x_reshape[:,0], rqmc_x_reshape[:,1], color='blue', alpha=0.5)\n",
    "        #sns.scatterplot([0.5], [0.5], color='green', alpha=1)\n",
    "        plt.legend()\n",
    "        plt.title(\"N samples %s\" % n_samples)\n",
    "        i +=1\n",
    "    plt.tight_layout()\n",
    "    \n",
    "plot_scatter(res_dict)"
   ]
  },
  {
   "cell_type": "code",
   "execution_count": null,
   "metadata": {
    "collapsed": false
   },
   "outputs": [],
   "source": [
    "def plot_coordinate(res_dict, type_sam='_min'):\n",
    "    plt.figure()\n",
    "    i = 1\n",
    "    for n_samples in res_dict['MC']:\n",
    "        mc_y = np.array([res['y'+type_sam] for res in res_dict['MC'][n_samples]])\n",
    "        rqmc_y = np.array([res['y'+type_sam] for res in res_dict['RQMC'][n_samples]])\n",
    "        mc_x = np.array([res['X'+type_sam] for res in res_dict['MC'][n_samples]])\n",
    "        rqmc_x = np.array([res['X'+type_sam] for res in res_dict['RQMC'][n_samples]])\n",
    "        mc_x_reshape = mc_x[:,:,:].reshape(-1,2)\n",
    "        rqmc_x_reshape = rqmc_x[:,:,:].reshape(-1,2)\n",
    "        plt.subplot(2,3,i)\n",
    "        sns.kdeplot(mc_x_reshape[:,0], label='MC')\n",
    "        sns.kdeplot(rqmc_x_reshape[:,0], label='RQMC')\n",
    "        plt.title(\"N samples %s\" % n_samples)\n",
    "        i +=1\n",
    "    plt.tight_layout()\n",
    "plot_coordinate(res_dict)\n",
    "\n"
   ]
  },
  {
   "cell_type": "code",
   "execution_count": null,
   "metadata": {
    "collapsed": false
   },
   "outputs": [],
   "source": [
    "#sns.kdeplot(mc_x_reshape[:,1], label='MC')\n",
    "#sns.kdeplot(rqmc_x_reshape[:,1], label='RQMC')"
   ]
  },
  {
   "cell_type": "code",
   "execution_count": null,
   "metadata": {
    "collapsed": false
   },
   "outputs": [],
   "source": [
    "#df1 = pd.DataFrame(mc_x_reshape, columns=['x1', 'y1'])\n",
    "#df2 = pd.DataFrame(rqmc_x_reshape, columns=['x2', 'y2'])\n",
    "\n",
    "\n",
    "# plot\n",
    "# ========================================   \n",
    "#graph = sns.jointplot(x=df1.x1, y=df1.y1, color='r')\n",
    "\n",
    "#graph.x = df2.x2\n",
    "#graph.y = df2.y2\n",
    "#graph.plot_joint(plt.scatter, marker='x', c='b', s=50)"
   ]
  },
  {
   "cell_type": "code",
   "execution_count": null,
   "metadata": {
    "collapsed": false
   },
   "outputs": [],
   "source": [
    "\n",
    "def plot_lines(res_dict, type_sam='_min'):\n",
    "    plt.figure()\n",
    "    i = 1\n",
    "    for n_samples in res_dict['MC']:\n",
    "        mc_y = np.array([res['y'+type_sam] for res in res_dict['MC'][n_samples]])\n",
    "        rqmc_y = np.array([res['y'+type_sam] for res in res_dict['RQMC'][n_samples]])\n",
    "        mc_x = np.array([res['X'+type_sam] for res in res_dict['MC'][n_samples]])\n",
    "        rqmc_x = np.array([res['X'+type_sam] for res in res_dict['RQMC'][n_samples]])\n",
    "        mc_x_reshape = mc_x[:,7:,:].reshape(-1,2)\n",
    "        rqmc_x_reshape = rqmc_x[:,7:,:].reshape(-1,2)\n",
    "        plt.subplot(2,3,i)\n",
    "        plt.plot(mc_y[:,:].transpose(),alpha=0.2, color=\"red\" ) #.min(axis=1)\n",
    "        plt.plot(rqmc_y[:,:].transpose(), alpha=0.2, color=\"blue\")\n",
    "        plt.title(\"N samples %s\" % n_samples)\n",
    "        i +=1\n",
    "        #if i == 3: break\n",
    "    plt.tight_layout()\n",
    "plot_lines(res_dict)"
   ]
  },
  {
   "cell_type": "code",
   "execution_count": null,
   "metadata": {
    "collapsed": false
   },
   "outputs": [],
   "source": [
    "\n",
    "def plot_boxplot_all(res_dict, type_sam='_min'):\n",
    "    plt.figure()\n",
    "    i = 1\n",
    "    for n_samples in res_dict['MC']:\n",
    "        mc_y = np.array([res['y'+type_sam] for res in res_dict['MC'][n_samples]])\n",
    "        rqmc_y = np.array([res['y'+type_sam] for res in res_dict['RQMC'][n_samples]])\n",
    "        mc_x = np.array([res['X'+type_sam] for res in res_dict['MC'][n_samples]])\n",
    "        rqmc_x = np.array([res['X'+type_sam] for res in res_dict['RQMC'][n_samples]])\n",
    "        mc_x_reshape = mc_x[:,7:,:].reshape(-1,2)\n",
    "        rqmc_x_reshape = rqmc_x[:,7:,:].reshape(-1,2)\n",
    "        plt.subplot(2,3,i)\n",
    "        plt.boxplot([rqmc_y[:,:].flatten(), mc_y[:,:].flatten()], labels=['RQMC', 'MC'])\n",
    "        plt.title(\"N samples %s\" % n_samples)\n",
    "        i +=1\n",
    "    plt.tight_layout()\n",
    "plot_boxplot_all(res_dict)"
   ]
  },
  {
   "cell_type": "code",
   "execution_count": null,
   "metadata": {
    "collapsed": false
   },
   "outputs": [],
   "source": [
    "#print np.log(np.mean(rqmc_y[:,7:].min(axis=1)**2)), np.log(np.mean(mc_y[:,7:].min(axis=1)**2))\n",
    "\n",
    "\n",
    "def plot_boxplot_min(res_dict, type_sam='_min'):\n",
    "    plt.figure()\n",
    "    i = 1\n",
    "    for n_samples in res_dict['MC']:\n",
    "        mc_y = np.array([res['y'+type_sam] for res in res_dict['MC'][n_samples]])\n",
    "        rqmc_y = np.array([res['y'+type_sam] for res in res_dict['RQMC'][n_samples]])\n",
    "        mc_x = np.array([res['X'+type_sam] for res in res_dict['MC'][n_samples]])\n",
    "        rqmc_x = np.array([res['X'+type_sam] for res in res_dict['RQMC'][n_samples]])\n",
    "        mc_x_reshape = mc_x[:,7:,:].reshape(-1,2)\n",
    "        rqmc_x_reshape = rqmc_x[:,7:,:].reshape(-1,2)\n",
    "        plt.subplot(2,3,i)\n",
    "        plt.boxplot([rqmc_y[:,:].min(axis=1), mc_y[:,:].min(axis=1)], labels=['RQMC', 'MC'])\n",
    "        plt.title(\"N samples %s\" % n_samples)\n",
    "        i +=1\n",
    "    plt.tight_layout()\n",
    "plot_boxplot_min(res_dict)"
   ]
  },
  {
   "cell_type": "code",
   "execution_count": null,
   "metadata": {
    "collapsed": false
   },
   "outputs": [],
   "source": [
    "for sample_size in res_dict['MC'].keys():\n",
    "    for method in ['MC', 'RQMC']:\n",
    "        mean_method = np.array([res['y_min'][-1] for res in  res_dict[method][sample_size]]).mean()\n",
    "        var_method = np.array([res['y_min'][-1] for res in  res_dict[method][sample_size]]).var()\n",
    "        print mean_method, var_method\n"
   ]
  }
 ],
 "metadata": {
  "kernelspec": {
   "display_name": "Python 3",
   "language": "python",
   "name": "python3"
  },
  "language_info": {
   "codemirror_mode": {
    "name": "ipython",
    "version": 2
   },
   "file_extension": ".py",
   "mimetype": "text/x-python",
   "name": "python",
   "nbconvert_exporter": "python",
   "pygments_lexer": "ipython2",
   "version": "2.7.15"
  }
 },
 "nbformat": 4,
 "nbformat_minor": 2
}
